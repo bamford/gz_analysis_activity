{
 "cells": [
  {
   "cell_type": "markdown",
   "id": "1024e94f",
   "metadata": {
    "vscode": {
     "languageId": "plaintext"
    }
   },
   "source": [
    "# Galaxy Zoo star-formation rate data analysis activity\n",
    "## Data preparation\n",
    "\n",
    "This activity uses the data for Fig. 6 and 7 of [this paper](https://arxiv.org/pdf/1703.02053). It compares two different estimates of the star-formation rate for samples of galaxies with different numbers of spiral arms (see Figure. 11 in this [other paper](https://arxiv.org/pdf/1607.01019)).\n",
    "\n",
    "Star-formation rates (SFRs) ares estimated directly from far-UV (FUV) and mid-infrared (MIR; 22 micron) photometry. Stellar mass is used to determine the specific star-formation rate (sSFR).\n",
    "\n",
    "One could:\n",
    "* Propagate errors for eqns. (4), (5), (6), log(sSFR) and also for log(SFR_FUV/SFR_22).\n",
    "* Show that the scatter in the distribution is significantly larger than the propagated uncertainties, i.e. there is intrinsic variation in the sSFR of galaxies.\n",
    "* Use different sized samples to demonstrate that the error on the mean goes as 1/sqrt(N), and that it has a Gaussian distribution, even when the original quantity is non-Gaussian.\n",
    "* Test for statistical differences in mean log(sSFR) and log(SFR_FUV/SFR_22) for galaxies with different numbers of spiral arms. Maybe you could first use resampled distributions of different sizes, then show that the results are the similar if you propagate the Gaussian error on the mean.\n",
    "* You could then introduce bootstrap resampling and show it gives the same result.\n",
    "* As a more compelling case for the bootstrap, you could consider a more complicated statistic, e.g. the median or the skew of the distribution, and see if it changes significantly with spiral arm number.\n",
    " "
   ]
  },
  {
   "cell_type": "code",
   "execution_count": 1,
   "id": "702f81a1",
   "metadata": {},
   "outputs": [],
   "source": [
    "import numpy as np    \n",
    "\n",
    "from astropy import constants as const\n",
    "from astropy import units as u\n",
    "from astropy.coordinates import SkyCoord\n",
    "from astropy.table import Table, join\n",
    "\n",
    "from matplotlib import pyplot as plt"
   ]
  },
  {
   "cell_type": "markdown",
   "id": "2b8bd316",
   "metadata": {},
   "source": [
    "### Read and match catalogues\n",
    "\n",
    "Unfortunately, I do not have a catalogue of all the required quantities including uncertainties. This must be created from the original data sources."
   ]
  },
  {
   "cell_type": "markdown",
   "id": "3a235268",
   "metadata": {},
   "source": [
    "The master catalogue is Ross Hart's [Galaxy Zoo 2 debiased catalogue](https://data.galaxyzoo.org/#section-7)."
   ]
  },
  {
   "cell_type": "code",
   "execution_count": 2,
   "id": "a116a6f1",
   "metadata": {},
   "outputs": [],
   "source": [
    "# wget -P fits/ https://gz2hart.s3.amazonaws.com/gz2_hart16.fits.gz\n",
    "# wget -P fits/ https://zooniverse-data.s3.amazonaws.com/galaxy-zoo-2/gz2sample.fits.gz"
   ]
  },
  {
   "cell_type": "code",
   "execution_count": 3,
   "id": "22aecee2",
   "metadata": {},
   "outputs": [
    {
     "name": "stdout",
     "output_type": "stream",
     "text": [
      "239695\n"
     ]
    }
   ],
   "source": [
    "gz_data = Table.read('fits/gz2_hart16.fits.gz')\n",
    "print(len(gz_data))"
   ]
  },
  {
   "cell_type": "code",
   "execution_count": 4,
   "id": "94b626f4",
   "metadata": {},
   "outputs": [
    {
     "name": "stderr",
     "output_type": "stream",
     "text": [
      "WARNING: hdu= was not specified but multiple tables are present, reading in first available table (hdu=1) [astropy.io.fits.connect]\n"
     ]
    },
    {
     "name": "stdout",
     "output_type": "stream",
     "text": [
      "239695\n"
     ]
    }
   ],
   "source": [
    "extra = Table.read('fits/gz2sample.fits.gz')\n",
    "extra.rename_column('OBJID', 'dr7objid')\n",
    "gz_data = join(gz_data, extra, keys='dr7objid')\n",
    "#mr_ok = gz_data['PETROMAG_R'] <= 17.0\n",
    "#gz_data = gz_data[mr_ok]\n",
    "#gz_data = gz_data[gz_data['sample'] == 'original' | gz_data['sample'] == 'extra']\n",
    "print(len(gz_data))"
   ]
  },
  {
   "cell_type": "markdown",
   "id": "e24bf43f",
   "metadata": {
    "vscode": {
     "languageId": "plaintext"
    }
   },
   "source": [
    "The FUV and optical photometry is from the [NASA Sloan Atlas (NSA)](https://nsatlas.org/data). We match it to the GZ data."
   ]
  },
  {
   "cell_type": "code",
   "execution_count": 5,
   "id": "f7169d43",
   "metadata": {},
   "outputs": [],
   "source": [
    "# wget http://sdss.physics.nyu.edu/mblanton/v0/nsa_v0_1_2.fits"
   ]
  },
  {
   "cell_type": "code",
   "execution_count": 6,
   "id": "6bf7679a",
   "metadata": {},
   "outputs": [
    {
     "name": "stdout",
     "output_type": "stream",
     "text": [
      "64618\n"
     ]
    }
   ],
   "source": [
    "nsa_data = Table.read('fits/nsa_v0_1_2.fits')\n",
    "gz_coords = SkyCoord(gz_data['ra'], gz_data['dec'], unit='deg')\n",
    "nsa_coords = SkyCoord(nsa_data['RACAT'], nsa_data['DECCAT'], unit='deg')\n",
    "nsa_gz_idx, sep, _ = nsa_coords.match_to_catalog_sky(gz_coords)\n",
    "sep_ok = sep < 1 * u.arcsec\n",
    "nsa_matched = nsa_data[sep_ok]\n",
    "nsa_gz_idx = nsa_gz_idx[sep_ok]\n",
    "gz_nsa_matched = gz_data[nsa_gz_idx]\n",
    "print(len(nsa_matched))"
   ]
  },
  {
   "cell_type": "code",
   "execution_count": 7,
   "id": "4e1b28a5",
   "metadata": {},
   "outputs": [
    {
     "name": "stdout",
     "output_type": "stream",
     "text": [
      "64511\n"
     ]
    }
   ],
   "source": [
    "z_ok = abs(nsa_matched['Z'] - gz_nsa_matched['REDSHIFT']) < 0.001\n",
    "nsa_matched = nsa_matched[z_ok]\n",
    "gz_nsa_matched = gz_nsa_matched[z_ok]\n",
    "print(len(nsa_matched))"
   ]
  },
  {
   "cell_type": "code",
   "execution_count": 8,
   "id": "5fc32dcb",
   "metadata": {},
   "outputs": [
    {
     "name": "stdout",
     "output_type": "stream",
     "text": [
      "60572\n"
     ]
    }
   ],
   "source": [
    "z_lim = nsa_matched['Z'] >= 0.02\n",
    "nsa_matched = nsa_matched[z_lim]\n",
    "gz_nsa_matched = gz_nsa_matched[z_lim]\n",
    "print(len(nsa_matched))"
   ]
  },
  {
   "cell_type": "markdown",
   "id": "9407a89e",
   "metadata": {
    "vscode": {
     "languageId": "plaintext"
    }
   },
   "source": [
    "The MIR data is obtained from the [catalogue](https://irfu.cea.fr/Pisp/yu-yen.chang/sw.html) made available by [Chang et al. (2015)](https://ui.adsabs.harvard.edu/abs/2015ApJS..219....8C/abstract). We match it to the combined GZ and NSA data."
   ]
  },
  {
   "cell_type": "code",
   "execution_count": 9,
   "id": "158db732",
   "metadata": {},
   "outputs": [],
   "source": [
    "chang_in = Table.read('fits/sw_input.fits')\n",
    "chang_out = Table.read('fits/sw_output.fits')"
   ]
  },
  {
   "cell_type": "code",
   "execution_count": 10,
   "id": "69170831",
   "metadata": {},
   "outputs": [],
   "source": [
    "single_detection = chang_out['flag_w'] == 1\n",
    "ok_mass = (chang_out['flag_w1'] == 1) | (chang_out['flag_w2'] == 1)\n",
    "ok_wise = (single_detection) & (ok_mass)\n",
    "chang_in = chang_in[ok_wise]\n",
    "chang_out = chang_out[ok_wise]"
   ]
  },
  {
   "cell_type": "code",
   "execution_count": 11,
   "id": "e02842cf",
   "metadata": {},
   "outputs": [
    {
     "name": "stdout",
     "output_type": "stream",
     "text": [
      "44356\n"
     ]
    }
   ],
   "source": [
    "gz_nsa_coords = SkyCoord(gz_nsa_matched['ra'], gz_nsa_matched['dec'], unit='deg')\n",
    "chang_coords = SkyCoord(chang_in['ra'], chang_in['dec'], unit='deg')\n",
    "chang_gz_nsa_idx, sep, _ = chang_coords.match_to_catalog_sky(gz_nsa_coords)\n",
    "sep_ok = sep < 6 * u.arcsec\n",
    "chang_gz_nsa_idx = chang_gz_nsa_idx[sep_ok]\n",
    "chang_in_matched = chang_in[sep_ok]\n",
    "chang_out_matched = chang_out[sep_ok]\n",
    "gz_nsa_chang_matched = gz_nsa_matched[chang_gz_nsa_idx]\n",
    "nsa_chang_matched = nsa_matched[chang_gz_nsa_idx]\n",
    "z_ok = abs(chang_in_matched['redshift'] - gz_nsa_chang_matched['REDSHIFT']) < 0.001\n",
    "chang_in_matched = chang_in_matched[z_ok]\n",
    "chang_out_matched = chang_out_matched[z_ok]\n",
    "gz_nsa_chang_matched = gz_nsa_chang_matched[z_ok]\n",
    "nsa_chang_matched = nsa_chang_matched[z_ok]\n",
    "print(len(chang_in_matched))"
   ]
  },
  {
   "cell_type": "code",
   "execution_count": 12,
   "id": "748894f7",
   "metadata": {},
   "outputs": [],
   "source": [
    "gz = gz_nsa_chang_matched\n",
    "nsa = nsa_chang_matched\n",
    "chang_in = chang_in_matched\n",
    "chang_out = chang_out_matched"
   ]
  },
  {
   "cell_type": "code",
   "execution_count": 13,
   "id": "f1322e7d",
   "metadata": {},
   "outputs": [
    {
     "data": {
      "text/plain": [
       "(44356, 44356, 44356, 44356)"
      ]
     },
     "execution_count": 13,
     "metadata": {},
     "output_type": "execute_result"
    }
   ],
   "source": [
    "len(gz), len(nsa), len(chang_in), len(chang_out)"
   ]
  },
  {
   "cell_type": "markdown",
   "id": "65e0abb0",
   "metadata": {},
   "source": [
    "### Apply explicit sample selection cuts"
   ]
  },
  {
   "cell_type": "markdown",
   "id": "c23441a7",
   "metadata": {},
   "source": [
    "Apply the mass-limited sample selection."
   ]
  },
  {
   "cell_type": "code",
   "execution_count": 14,
   "id": "0ebe595f",
   "metadata": {},
   "outputs": [],
   "source": [
    "correction_factor = 2.5*np.log10(1**2/0.7**2)\n",
    "nsa['M_corrected'] = nsa['ABSMAG'] - correction_factor\n",
    "mag_limit = -19.95\n",
    "mass_limit = 10.0\n",
    "in_lum_limit = nsa['M_corrected'][:,4] <= mag_limit\n",
    "in_mass_limit = chang_out['lmass50_all'] >= mass_limit\n",
    "in_limits = in_lum_limit & in_mass_limit\n",
    "gz = gz[in_limits]\n",
    "nsa = nsa[in_limits]\n",
    "chang_in = chang_in[in_limits]\n",
    "chang_out = chang_out[in_limits]"
   ]
  },
  {
   "cell_type": "code",
   "execution_count": 15,
   "id": "e096f903",
   "metadata": {},
   "outputs": [
    {
     "data": {
      "text/plain": [
       "(24525, 24525, 24525, 24525)"
      ]
     },
     "execution_count": 15,
     "metadata": {},
     "output_type": "execute_result"
    }
   ],
   "source": [
    "len(gz), len(nsa), len(chang_in), len(chang_out)"
   ]
  },
  {
   "cell_type": "markdown",
   "id": "32f42992",
   "metadata": {},
   "source": [
    "Apply the morphology selection."
   ]
  },
  {
   "cell_type": "code",
   "execution_count": 16,
   "id": "85e4ef65",
   "metadata": {},
   "outputs": [],
   "source": [
    "p_spiral = (gz['t01_smooth_or_features_a02_features_or_disk_debiased'] *\n",
    "            gz['t02_edgeon_a05_no_debiased'] *\n",
    "            gz['t04_spiral_a08_spiral_debiased'])\n",
    "\n",
    "p_bar = gz['t03_bar_a06_bar_debiased']\n",
    "\n",
    "N_spiral = (gz['t04_spiral_a08_spiral_count'] - \n",
    "            gz['t11_arms_number_a37_cant_tell_count'])\n",
    "\n",
    "p_ok = p_spiral > 0.5\n",
    "bar_ok = p_bar < 0.5\n",
    "N_ok = N_spiral >= 5\n",
    "\n",
    "ba_ok = nsa['BA90'] > 0.4\n",
    "\n",
    "in_spiral = p_ok & N_ok & bar_ok & ba_ok\n",
    "\n",
    "question = 't11_arms_number'\n",
    "answers = ['a31_1','a32_2','a33_3','a34_4','a36_more_than_4']\n",
    "answer_array = np.array([gz[question + '_' + A + '_debiased'].data for A in answers]).T\n",
    "m = np.argmax(answer_array, axis=1)\n",
    "m = np.take(['1','2','3','4','5+'], m)\n",
    "gz['m'] = m"
   ]
  },
  {
   "cell_type": "code",
   "execution_count": 17,
   "id": "03e13bc3",
   "metadata": {},
   "outputs": [],
   "source": [
    "gz = gz[in_spiral]\n",
    "nsa = nsa[in_spiral]\n",
    "chang_in = chang_in[in_spiral]\n",
    "chang_out = chang_out[in_spiral]"
   ]
  },
  {
   "cell_type": "code",
   "execution_count": 18,
   "id": "1f25991e",
   "metadata": {},
   "outputs": [
    {
     "data": {
      "text/plain": [
       "(3878, 3878, 3878, 3878)"
      ]
     },
     "execution_count": 18,
     "metadata": {},
     "output_type": "execute_result"
    }
   ],
   "source": [
    "len(gz), len(nsa), len(chang_in), len(chang_out)"
   ]
  },
  {
   "cell_type": "markdown",
   "id": "a4f4bd4d",
   "metadata": {},
   "source": [
    "Apply the SNR limits."
   ]
  },
  {
   "cell_type": "code",
   "execution_count": 19,
   "id": "f4a44a47",
   "metadata": {},
   "outputs": [
    {
     "data": {
      "text/plain": [
       "(2986, 2986, 2986, 2986)"
      ]
     },
     "execution_count": 19,
     "metadata": {},
     "output_type": "execute_result"
    }
   ],
   "source": [
    "snr_fuv = nsa['NMGY'][:, 0] * np.sqrt(nsa['NMGY_IVAR'][:, 0])\n",
    "snr_mir = chang_in['flux_w4'] / chang_in['flux_w4_e']\n",
    "\n",
    "snr_ok = (snr_fuv > 2) & (snr_mir > 2)\n",
    "\n",
    "gz = gz[snr_ok]\n",
    "nsa = nsa[snr_ok]\n",
    "chang_in = chang_in[snr_ok]\n",
    "chang_out = chang_out[snr_ok]\n",
    "len(gz), len(nsa), len(chang_in), len(chang_out)\n"
   ]
  },
  {
   "cell_type": "markdown",
   "id": "203813a3",
   "metadata": {},
   "source": [
    "### Prepare key quantities"
   ]
  },
  {
   "cell_type": "markdown",
   "id": "5dbdefcf",
   "metadata": {},
   "source": [
    "MIR luminosities, in solar units, can be taken directly from the Chang et al. catalogue. Unfortunately, this does not provide uncertainties. For the purposes of this activity, I will estimate them from the uncertainties on the observed-frame fluxes."
   ]
  },
  {
   "cell_type": "code",
   "execution_count": 20,
   "id": "a2592882",
   "metadata": {},
   "outputs": [],
   "source": [
    "log_w4_lums = chang_out['lrest_w4']\n",
    "log_w4_lums_err = np.log10(np.e) * (chang_in['flux_w3_e'] + chang_in['flux_w4_e']) / (chang_in['flux_w4'] + chang_in['flux_w3'])"
   ]
  },
  {
   "cell_type": "markdown",
   "id": "244d0714",
   "metadata": {},
   "source": [
    "FUV luminosities are given in absolute magnitudes and need to be converted to solar units."
   ]
  },
  {
   "cell_type": "code",
   "execution_count": 21,
   "id": "d1643a38",
   "metadata": {},
   "outputs": [],
   "source": [
    "def uv_mag_to_lum(Mag, Mag_err):\n",
    "    S = 3631 * 10**(Mag/-2.5) * u.Jy # AB -> flux density\n",
    "    L = S * (4*np.pi)*(10*u.pc)**2 # absolute magnitude = 10pc\n",
    "    wavelength = 1538.62 * u.Angstrom\n",
    "    frequency = (const.c / wavelength).to(u.Hz)\n",
    "    L = (frequency * L).to(u.erg/u.s)\n",
    "    L_solar = 3.828e33 * (u.erg/u.s)\n",
    "    L /= L_solar\n",
    "    L_err = Mag_err * L * np.log(10) / 2.5\n",
    "    return np.asarray(L), np.asarray(L_err)"
   ]
  },
  {
   "cell_type": "code",
   "execution_count": 22,
   "id": "eab0326b",
   "metadata": {},
   "outputs": [],
   "source": [
    "fuv_mags = nsa['M_corrected'][:, 0]\n",
    "fuv_mags_err = 1/np.sqrt(nsa['AMIVAR'][:, 0])\n",
    "fuv_lums, fuv_lums_err = uv_mag_to_lum(fuv_mags, fuv_mags_err)"
   ]
  },
  {
   "cell_type": "markdown",
   "id": "8ac49eb7",
   "metadata": {},
   "source": [
    "Take log10 of all the luminosities and round appropriately."
   ]
  },
  {
   "cell_type": "code",
   "execution_count": 23,
   "id": "1424f405",
   "metadata": {},
   "outputs": [],
   "source": [
    "log_fuv_lums = np.log10(fuv_lums)\n",
    "log_fuv_lums_err = fuv_lums_err / fuv_lums / np.log(10)\n",
    "log_fuv_lums = log_fuv_lums.round(2)\n",
    "log_fuv_lums_err = log_fuv_lums_err.round(2)"
   ]
  },
  {
   "cell_type": "code",
   "execution_count": 24,
   "id": "69839c12",
   "metadata": {},
   "outputs": [],
   "source": [
    "log_w4_lums = log_w4_lums.round(2)\n",
    "log_w4_lums_err = log_w4_lums_err.round(2)"
   ]
  },
  {
   "cell_type": "markdown",
   "id": "6d18527f",
   "metadata": {},
   "source": [
    "Determine mass uncertainties from the supplied quantiles."
   ]
  },
  {
   "cell_type": "code",
   "execution_count": 69,
   "id": "d70455e5",
   "metadata": {},
   "outputs": [],
   "source": [
    "log_mstar = chang_out['lmass50_all']\n",
    "mstar = 10**log_mstar\n",
    "mstar_err = (10**chang_out['lmass84_all'] - 10**chang_out['lmass16_all']) / 2\n",
    "log_mstar_err = mstar_err / mstar / np.log(10)\n",
    "log_mstar = log_mstar.astype(float).round(2)\n",
    "log_mstar_err = log_mstar_err.astype(float).round(2)"
   ]
  },
  {
   "cell_type": "markdown",
   "id": "243977f7",
   "metadata": {},
   "source": [
    "Compile all the key quantities into a table and write it to disk."
   ]
  },
  {
   "cell_type": "code",
   "execution_count": 70,
   "id": "31e83eb3",
   "metadata": {},
   "outputs": [],
   "source": [
    "data = Table(dict(dr7id=gz['dr7objid'], m=gz['m'], logL_FUV=log_fuv_lums, logL_FUV_err=log_fuv_lums_err, logL_22=log_w4_lums, logL_22_err=log_w4_lums_err, logMstar=log_mstar, logMstar_err=log_mstar_err))"
   ]
  },
  {
   "cell_type": "code",
   "execution_count": 71,
   "id": "95ae06ce",
   "metadata": {},
   "outputs": [
    {
     "data": {
      "text/html": [
       "<div><i>Table length=2986</i>\n",
       "<table id=\"table4723977168\" class=\"table-striped table-bordered table-condensed\">\n",
       "<thead><tr><th>dr7id</th><th>m</th><th>logL_FUV</th><th>logL_FUV_err</th><th>logL_22</th><th>logL_22_err</th><th>logMstar</th><th>logMstar_err</th></tr></thead>\n",
       "<thead><tr><th>int64</th><th>str2</th><th>float64</th><th>float64</th><th>float64</th><th>float64</th><th>float64</th><th>float64</th></tr></thead>\n",
       "<tr><td>588015509830762647</td><td>3</td><td>9.93</td><td>0.02</td><td>9.28</td><td>0.05</td><td>10.9</td><td>0.12</td></tr>\n",
       "<tr><td>588015510362390600</td><td>2</td><td>9.63</td><td>0.02</td><td>8.74</td><td>0.04</td><td>10.54</td><td>0.12</td></tr>\n",
       "<tr><td>587729774758199429</td><td>2</td><td>8.78</td><td>0.05</td><td>9.42</td><td>0.05</td><td>10.22</td><td>0.09</td></tr>\n",
       "<tr><td>587722981755977976</td><td>1</td><td>9.48</td><td>0.02</td><td>9.24</td><td>0.07</td><td>10.93</td><td>0.09</td></tr>\n",
       "<tr><td>587729778521604125</td><td>2</td><td>8.85</td><td>0.04</td><td>9.34</td><td>0.05</td><td>10.93</td><td>0.08</td></tr>\n",
       "<tr><td>587722982282100859</td><td>2</td><td>9.23</td><td>0.02</td><td>8.92</td><td>0.09</td><td>10.01</td><td>0.09</td></tr>\n",
       "<tr><td>587722982286360744</td><td>4</td><td>9.35</td><td>0.1</td><td>9.09</td><td>0.07</td><td>10.58</td><td>0.09</td></tr>\n",
       "<tr><td>587722982291865751</td><td>5+</td><td>9.72</td><td>0.02</td><td>9.34</td><td>0.06</td><td>10.94</td><td>0.08</td></tr>\n",
       "<tr><td>587722982297305365</td><td>2</td><td>9.43</td><td>0.02</td><td>8.7</td><td>0.07</td><td>10.45</td><td>0.11</td></tr>\n",
       "<tr><td>...</td><td>...</td><td>...</td><td>...</td><td>...</td><td>...</td><td>...</td><td>...</td></tr>\n",
       "<tr><td>587742864741367935</td><td>2</td><td>9.83</td><td>0.04</td><td>9.16</td><td>0.06</td><td>10.54</td><td>0.09</td></tr>\n",
       "<tr><td>587742864741367981</td><td>3</td><td>9.53</td><td>0.06</td><td>8.83</td><td>0.1</td><td>10.92</td><td>0.09</td></tr>\n",
       "<tr><td>587744873711141016</td><td>2</td><td>9.65</td><td>0.03</td><td>9.17</td><td>0.06</td><td>10.32</td><td>0.1</td></tr>\n",
       "<tr><td>587745541050138641</td><td>2</td><td>9.82</td><td>0.04</td><td>9.56</td><td>0.05</td><td>10.51</td><td>0.09</td></tr>\n",
       "<tr><td>587745541050925163</td><td>2</td><td>9.35</td><td>0.07</td><td>9.08</td><td>0.07</td><td>10.44</td><td>0.09</td></tr>\n",
       "<tr><td>587745541053480977</td><td>2</td><td>9.08</td><td>0.06</td><td>8.67</td><td>0.07</td><td>10.62</td><td>0.07</td></tr>\n",
       "<tr><td>587745541056757944</td><td>3</td><td>9.4</td><td>0.06</td><td>9.03</td><td>0.07</td><td>10.69</td><td>0.09</td></tr>\n",
       "<tr><td>587745541057085533</td><td>3</td><td>9.94</td><td>0.03</td><td>9.54</td><td>0.05</td><td>10.99</td><td>0.11</td></tr>\n",
       "<tr><td>587745541057937469</td><td>2</td><td>9.44</td><td>0.05</td><td>9.32</td><td>0.07</td><td>10.44</td><td>0.09</td></tr>\n",
       "<tr><td>587742566782468267</td><td>2</td><td>9.49</td><td>0.07</td><td>8.08</td><td>0.09</td><td>10.28</td><td>0.18</td></tr>\n",
       "</table></div>"
      ],
      "text/plain": [
       "<Table length=2986>\n",
       "      dr7id         m   logL_FUV ... logL_22_err logMstar logMstar_err\n",
       "      int64        str2 float64  ...   float64   float64    float64   \n",
       "------------------ ---- -------- ... ----------- -------- ------------\n",
       "588015509830762647    3     9.93 ...        0.05     10.9         0.12\n",
       "588015510362390600    2     9.63 ...        0.04    10.54         0.12\n",
       "587729774758199429    2     8.78 ...        0.05    10.22         0.09\n",
       "587722981755977976    1     9.48 ...        0.07    10.93         0.09\n",
       "587729778521604125    2     8.85 ...        0.05    10.93         0.08\n",
       "587722982282100859    2     9.23 ...        0.09    10.01         0.09\n",
       "587722982286360744    4     9.35 ...        0.07    10.58         0.09\n",
       "587722982291865751   5+     9.72 ...        0.06    10.94         0.08\n",
       "587722982297305365    2     9.43 ...        0.07    10.45         0.11\n",
       "               ...  ...      ... ...         ...      ...          ...\n",
       "587742864741367935    2     9.83 ...        0.06    10.54         0.09\n",
       "587742864741367981    3     9.53 ...         0.1    10.92         0.09\n",
       "587744873711141016    2     9.65 ...        0.06    10.32          0.1\n",
       "587745541050138641    2     9.82 ...        0.05    10.51         0.09\n",
       "587745541050925163    2     9.35 ...        0.07    10.44         0.09\n",
       "587745541053480977    2     9.08 ...        0.07    10.62         0.07\n",
       "587745541056757944    3      9.4 ...        0.07    10.69         0.09\n",
       "587745541057085533    3     9.94 ...        0.05    10.99         0.11\n",
       "587745541057937469    2     9.44 ...        0.07    10.44         0.09\n",
       "587742566782468267    2     9.49 ...        0.09    10.28         0.18"
      ]
     },
     "execution_count": 71,
     "metadata": {},
     "output_type": "execute_result"
    }
   ],
   "source": [
    "data"
   ]
  },
  {
   "cell_type": "code",
   "execution_count": null,
   "id": "1e1bd50f",
   "metadata": {},
   "outputs": [],
   "source": [
    "data.write('gz_data.csv', overwrite=True)"
   ]
  },
  {
   "cell_type": "markdown",
   "id": "9d54ce00",
   "metadata": {},
   "source": [
    "### Calculate SFR quantities from the data\n",
    "\n",
    "We use the equations and information given in the paper, and propogate uncertainties.\n",
    "\n",
    "Uncertainties are propogated using $u^2(f) = \\sum_i \\left(\\frac{\\partial f}{dx_i}\\right)^2 u^2(x_i)$, for $f(x_i)$.\n",
    "\n",
    "#### Star formation rates from luminositites\n",
    "\n",
    "From Eqn. 4, $SFR_\\textrm{FUV} = 10^{-9.69} L_\\textrm{FUV}$, where the luminosity is in solar units ($L_{\\odot}$) and the SFR is in solar masses per year ($M_{\\odot}\\,\\textrm{yr}^{-1}$).\n",
    "\n",
    "Taking the logarithm (base 10), $\\log(SFR_\\textrm{FUV}) = \\log(L_\\textrm{FUV}) - 9.69$.\n",
    "\n",
    "The uncertainty on this is simply, $u[\\log(SFR_\\textrm{FUV})] = u[\\log(L_\\textrm{FUV})]$.\n",
    "\n",
    "We are given $\\log(L_\\textrm{FUV})$ and its uncertainty in columns `logL_FUV` and `log_FUV_err` of the table.\n",
    "\n",
    "Similarly, Eqn. 5, together with the value of $\\eta$ and small IMF correction specified in the following paragraph, gives,\n",
    "\n",
    "$\\log(SFR_\\textrm{22}) = \\log(L_\\textrm{22}) - 9.125 + \\log(1 - 0.17) - 0.03$.\n",
    "\n",
    "with uncertainty, $u[\\log(SFR_\\textrm{22})] = u[\\log(L_\\textrm{22})]$.\n",
    "\n",
    "We are given $\\log(L_\\textrm{22})$ and its uncertainty in columns `logL_22` and `log_22_err` of the table.\n",
    "\n",
    "In each case we have neglected the uncertainty on the luminosity to SFR calibrations.\n",
    "\n",
    "#### Total star formation rate\n",
    "\n",
    "For the total SFR we have, from Eqn. 6, $\\log(SFR_\\textrm{total}) = \\log(SFR_\\textrm{FUV} + SFR_\\textrm{22})$.\n",
    "\n",
    "Calculating the uncertainty takes some care, but gives, $u[\\log(SFR_\\textrm{total})] = \\frac{1}{SFR_\\textrm{total}} \\sqrt{\\big(SFR_\\textrm{FUV}\\cdot u[\\log(SFR_\\textrm{FUV})]\\big)^2 + \\big(SFR_\\textrm{22}\\cdot u[\\log(SFR_\\textrm{22})]\\big)^2}$.\n",
    "\n",
    "#### Specific star formation rate\n",
    "\n",
    "We now have that $sSFR = SFR_\\textrm{total} / M_*$, which means that $\\log(sSFR) = \\log(SFR_\\textrm{total}) - \\log(M_*)$, where $sSFR$ is in units of $\\textrm{yr}^{-1}$, $SFR$ is in $M_\\odot\\,\\textrm{yr}^{-1}$, and $M_*$ is the stellar mass in $M_\\odot$.\n",
    "\n",
    "Therefore, $u[\\log(sSFR)] = \\sqrt{u[\\log(SFR_\\textrm{total})]^2 + u[\\log(M_*)]^2}$.\n",
    "\n",
    "We are given $\\log(M_*)$ and its uncertainty in columns `logMStar` and `logMstar_err` of the table.\n",
    "\n",
    "#### Residual sSFR\n",
    "\n",
    "Eqns. 7 and 8 define $\\log(sSFR_\\textrm{expected}) = -0.49 \\log(M_*) − 5.06$ and $\\log(sSFR_\\textrm{residual}) = \\log(sSFR) - \\log(sSFR_\\textrm{expected})$.\n",
    "\n",
    "Assuming no uncertainty in the expected sSFR, then $u[\\log(sSFR_\\textrm{residual})] = u[\\log(sSFR)]$.\n",
    "\n",
    "#### FUV versus MIR SFR ratio\n",
    "\n",
    "In Sec. 3.2, the SFR in the FUV and MIR are compared using $\\log(SFR_\\textrm{FUV} / SFR_\\textrm{22}) = \\log(SFR_\\textrm{FUV}) - \\log(SFR_\\textrm{22})$.\n",
    "\n",
    "Therefore, $u[\\log(SFR_\\textrm{FUV} / SFR_\\textrm{22})] = \\sqrt{u[\\log(SFR_\\textrm{FUV})]^2 + u[\\log(SFR_{22})]^2}$."
   ]
  },
  {
   "cell_type": "markdown",
   "id": "2078a3ca",
   "metadata": {},
   "source": [
    "The code below adds all these quantities to the data table."
   ]
  },
  {
   "cell_type": "code",
   "execution_count": 97,
   "id": "0823a40b",
   "metadata": {},
   "outputs": [],
   "source": [
    "data['logSFR_FUV'] = data['logL_FUV'] - 9.69\n",
    "data['logSFR_FUV_err'] = data['logL_FUV_err']\n",
    "data['logSFR_22'] = data['logL_22'] - 9.125 + np.log10(1 - 0.17) - 0.03\n",
    "data['logSFR_22_err'] = data['logL_22_err']\n",
    "SFR_FUV = 10**data['logSFR_FUV']\n",
    "SFR_22 = 10**data['logSFR_22']\n",
    "SFR = SFR_FUV + SFR_22\n",
    "data['logSFR'] = np.log10(SFR)\n",
    "data['logSFR_err'] = np.sqrt((SFR_FUV * data['logSFR_FUV_err'])**2 + (SFR_22 * data['logSFR_22_err'])**2) / SFR\n",
    "data['logsSFR'] = data['logSFR'] - data['logMstar']\n",
    "data['logsSFR_err'] = np.sqrt(data['logSFR_err']**2 + data['logMstar_err']**2)\n",
    "logsSFR_expected = -0.49 * data['logMstar'] - 5.06\n",
    "data['logsSFR_residual'] = data['logsSFR'] - logsSFR_expected\n",
    "data['logSFR_ratio'] = data['logSFR_FUV'] - data['logSFR_22']\n",
    "data['logSFR_ratio_err'] = np.sqrt(data['logSFR_FUV_err']**2 + data['logSFR_22_err']**2)"
   ]
  },
  {
   "cell_type": "markdown",
   "id": "5767cfae",
   "metadata": {},
   "source": [
    "As a check, we now compare these calculated quantities with those in Ross's own table."
   ]
  },
  {
   "cell_type": "code",
   "execution_count": null,
   "id": "18a7b227",
   "metadata": {},
   "outputs": [],
   "source": [
    "ross_data = Table.read('fits/sfrs+ids.fits.gz')\n",
    "len(ross_data)"
   ]
  },
  {
   "cell_type": "code",
   "execution_count": null,
   "id": "87a1d169",
   "metadata": {},
   "outputs": [],
   "source": [
    "combined = join(data, ross_data, keys='dr7id')  \n",
    "len(data), len(combined)"
   ]
  },
  {
   "cell_type": "code",
   "execution_count": 84,
   "id": "6f807df0",
   "metadata": {},
   "outputs": [
    {
     "data": {
      "text/html": [
       "<div><i>Table length=2986</i>\n",
       "<table id=\"table4644007440\" class=\"table-striped table-bordered table-condensed\">\n",
       "<thead><tr><th>dr7id</th><th>m</th><th>logL_FUV</th><th>logL_FUV_err</th><th>logL_22</th><th>logL_22_err</th><th>logMstar</th><th>logMstar_err</th><th>logSFR_FUV</th><th>logSFR_FUV_err</th><th>logSFR_22</th><th>logSFR_22_err</th><th>logSFR</th><th>logSFR_err</th><th>logsSFR</th><th>logsSFR_err</th><th>logsSFR_residual</th><th>logSFR_ratio</th><th>logSFR_ratio_err</th><th>logSFR_ratio_bad</th><th>F</th><th>N</th><th>u</th><th>g</th><th>r</th><th>i</th><th>z</th><th>sfr_fuv</th><th>sfr_22</th><th>sfr_total</th><th>sfr_c15</th><th>sfr_s16</th><th>star_forming</th><th>w1</th><th>w2</th><th>w3</th><th>w4</th><th>irx</th><th>beta</th><th>mir_fraction</th><th>sfr_mpa</th></tr></thead>\n",
       "<thead><tr><th>int64</th><th>str2</th><th>float64</th><th>float64</th><th>float64</th><th>float64</th><th>float64</th><th>float64</th><th>float64</th><th>float64</th><th>float64</th><th>float64</th><th>float64</th><th>float64</th><th>float64</th><th>float64</th><th>float64</th><th>float64</th><th>float64</th><th>float64</th><th>float64</th><th>float64</th><th>float64</th><th>float64</th><th>float64</th><th>float64</th><th>float64</th><th>float64</th><th>float64</th><th>float64</th><th>float64</th><th>float64</th><th>bool</th><th>float64</th><th>float64</th><th>float64</th><th>float64</th><th>float64</th><th>float64</th><th>float64</th><th>float32</th></tr></thead>\n",
       "<tr><td>587722981755977976</td><td>1</td><td>9.48</td><td>0.02</td><td>9.24</td><td>0.07</td><td>10.93</td><td>0.09</td><td>-0.20999999999999908</td><td>0.02</td><td>0.004078092376074094</td><td>0.07</td><td>0.21112838904280343</td><td>0.04411263340246076</td><td>-10.718871610957196</td><td>0.10022935910051455</td><td>-0.3031716109571967</td><td>-0.21407809237607317</td><td>0.07280109889280519</td><td>-51.4946648173189</td><td>32.036681864172415</td><td>59.86135480256892</td><td>8.06043119159586</td><td>256.52678946494257</td><td>370.12548503917026</td><td>292.3008915073869</td><td>42.80543153800599</td><td>-0.21034616371815498</td><td>0.053691790618618576</td><td>0.2424670690682912</td><td>-0.30300000309944153</td><td>0.165</td><td>False</td><td>6.3617147830873035</td><td>6.357313914190236</td><td>7.771412835808954</td><td>5.687873383528218</td><td>0.8603463163060461</td><td>-0.7439587398119578</td><td>0.6474775601914139</td><td>0.12825009</td></tr>\n",
       "<tr><td>587722982282100859</td><td>2</td><td>9.23</td><td>0.02</td><td>8.92</td><td>0.09</td><td>10.01</td><td>0.09</td><td>-0.4599999999999991</td><td>0.02</td><td>-0.31592190762392625</td><td>0.09</td><td>-0.08098338232829959</td><td>0.053058857205026205</td><td>-10.0909833823283</td><td>0.10447603709896046</td><td>-0.12608338232830008</td><td>-0.14407809237607283</td><td>0.09219544457292887</td><td>1.456056034415896</td><td>42.25557649358664</td><td>92.17733309659386</td><td>34.40901662060428</td><td>134.86113137923633</td><td>216.16891533872388</td><td>81.98696485741043</td><td>13.319761945919197</td><td>-0.46093744179432683</td><td>-0.26074485248138196</td><td>-0.04837674527243151</td><td>-0.08299999684095383</td><td>-0.015</td><td>True</td><td>6.594401086574786</td><td>6.546538875702389</td><td>7.820760913329929</td><td>3.6607514277260145</td><td>0.6679377545995031</td><td>-0.38982225247439994</td><td>0.613242002019192</td><td>-0.016709905</td></tr>\n",
       "<tr><td>587722982286360744</td><td>4</td><td>9.35</td><td>0.1</td><td>9.09</td><td>0.07</td><td>10.58</td><td>0.09</td><td>-0.33999999999999986</td><td>0.1</td><td>-0.14592190762392626</td><td>0.07</td><td>0.06882124984444836</td><td>0.05783145285051266</td><td>-10.511178750155551</td><td>0.10697886211210637</td><td>-0.26697875015555184</td><td>-0.1940780923760736</td><td>0.12206555615733704</td><td>2.3300133991960736</td><td>2.3518677740323652</td><td>10.11619331204084</td><td>28.36665699163056</td><td>213.7188248099612</td><td>256.4437066211946</td><td>263.9398513376708</td><td>13.503888698571394</td><td>-0.3407531156224515</td><td>-0.09982061528138224</td><td>0.09724086543173706</td><td>0.1770000010728836</td><td>-999.0</td><td>True</td><td>6.327488447640774</td><td>6.323414609179388</td><td>7.941120202058251</td><td>5.165004760435925</td><td>0.9807530393285067</td><td>-0.2921683995330937</td><td>0.6352409978652058</td><td>0.3091701</td></tr>\n",
       "<tr><td>587722982291865751</td><td>5+</td><td>9.72</td><td>0.02</td><td>9.34</td><td>0.06</td><td>10.94</td><td>0.08</td><td>0.030000000000001137</td><td>0.02</td><td>0.10407809237607374</td><td>0.06</td><td>0.36964657865563666</td><td>0.033813688111045</td><td>-10.570353421344363</td><td>0.08685255035789695</td><td>-0.14975342134436254</td><td>-0.0740780923760726</td><td>0.06324555320336758</td><td>0.2882450986092224</td><td>52.37938753664789</td><td>99.2147016062212</td><td>45.447787713136655</td><td>364.88005577163864</td><td>353.93946385587645</td><td>302.43851837309717</td><td>79.04067150793087</td><td>0.034555874856064185</td><td>0.158755296518619</td><td>0.4021103485894996</td><td>0.15700000524520874</td><td>-999.0</td><td>True</td><td>6.418382175603738</td><td>6.417260605740721</td><td>8.165314969221642</td><td>7.3555415227243985</td><td>0.7954445829076082</td><td>-0.446858978110922</td><td>0.5710116223224722</td><td>0.6314501</td></tr>\n",
       "<tr><td>587722982297305365</td><td>2</td><td>9.43</td><td>0.02</td><td>8.7</td><td>0.07</td><td>10.45</td><td>0.11</td><td>-0.2599999999999998</td><td>0.02</td><td>-0.5359219076239269</td><td>0.07</td><td>-0.07537707005161384</td><td>0.027541998311615332</td><td>-10.525377070051613</td><td>0.11339559811120103</td><td>-0.3448770700516146</td><td>0.2759219076239271</td><td>0.07280109889280519</td><td>0.4851453099813376</td><td>69.14927226397936</td><td>126.04862642608121</td><td>30.505852017497084</td><td>180.91015011032036</td><td>51.183262768399366</td><td>268.2518485690664</td><td>49.3574057392813</td><td>-0.2630317105931557</td><td>-0.4863193896813819</td><td>-0.05945076794709304</td><td>-0.7329999804496765</td><td>-999.0</td><td>True</td><td>6.360541405050593</td><td>6.3547184573361974</td><td>7.871769586832725</td><td>5.496906855250571</td><td>0.43503217598622257</td><td>-1.0230704254552463</td><td>0.3742237774495441</td><td>0.0064000976</td></tr>\n",
       "<tr><td>587722982297698635</td><td>2</td><td>9.52</td><td>0.02</td><td>9.05</td><td>0.06</td><td>10.65</td><td>0.1</td><td>-0.16999999999999993</td><td>0.02</td><td>-0.1859219076239254</td><td>0.06</td><td>0.12314200298700019</td><td>0.031161033180669498</td><td>-10.526857997013</td><td>0.1047425891836114</td><td>-0.24835799701300054</td><td>0.01592190762392548</td><td>0.06324555320336758</td><td>0.9143623910306923</td><td>41.159366687465386</td><td>79.58177355837758</td><td>30.549226751049666</td><td>224.2778206553958</td><td>252.98319998295935</td><td>234.0567545592997</td><td>90.1137300257054</td><td>-0.17389596840565608</td><td>-0.13797580968138207</td><td>0.14546536686461964</td><td>-0.2879999876022339</td><td>0.241</td><td>True</td><td>6.3552020587795015</td><td>6.351166690875436</td><td>8.079474144905076</td><td>7.423305650944722</td><td>0.7138955106419846</td><td>-0.7473964992114317</td><td>0.5206655260929638</td><td>0.4460801</td></tr>\n",
       "<tr><td>587722982298616131</td><td>2</td><td>9.45</td><td>0.02</td><td>8.86</td><td>0.06</td><td>10.31</td><td>0.09</td><td>-0.2400000000000002</td><td>0.02</td><td>-0.37592190762392674</td><td>0.06</td><td>-0.0016350548692788216</td><td>0.027852110206209823</td><td>-10.31163505486928</td><td>0.09421114606530831</td><td>-0.19973505486928111</td><td>0.13592190762392653</td><td>0.06324555320336758</td><td>0.6384304695540566</td><td>20.69680313804001</td><td>54.323048286207715</td><td>23.075127108723635</td><td>172.1781806232663</td><td>149.74583852806788</td><td>177.54407607347375</td><td>67.29595126799985</td><td>-0.2390845670384678</td><td>-0.3257937697813823</td><td>0.02075123671793362</td><td>-0.46799999475479126</td><td>-0.012</td><td>True</td><td>6.317625887598518</td><td>6.304366734359742</td><td>8.010385224197197</td><td>6.128284568234308</td><td>0.5160845746678628</td><td>-1.3390391890601445</td><td>0.4502513187433085</td><td>-0.1891499</td></tr>\n",
       "<tr><td>587722982817529962</td><td>2</td><td>9.37</td><td>0.02</td><td>8.83</td><td>0.05</td><td>10.47</td><td>0.12</td><td>-0.3200000000000003</td><td>0.02</td><td>-0.4059219076239261</td><td>0.05</td><td>-0.0598095389311206</td><td>0.025070272413229323</td><td>-10.52980953893112</td><td>0.12259085838215478</td><td>-0.3395095389311198</td><td>0.08592190762392582</td><td>0.05385164807134505</td><td>0.7883289716318298</td><td>71.69757490345388</td><td>218.41346555809938</td><td>78.42669820103036</td><td>519.4067738228915</td><td>550.0169913634226</td><td>34.09974548825793</td><td>106.29112399478946</td><td>-0.31510461708729665</td><td>-0.3583638488813815</td><td>-0.03516583881109347</td><td>-0.453000009059906</td><td>-999.0</td><td>True</td><td>6.871272936240193</td><td>6.871239934448876</td><td>9.123593014226714</td><td>7.909241463114378</td><td>0.6951043119115159</td><td>-0.7172344576802974</td><td>0.47511855335746667</td><td>-0.27486992</td></tr>\n",
       "<tr><td>587722982826770451</td><td>3</td><td>9.65</td><td>0.02</td><td>9.41</td><td>0.05</td><td>10.43</td><td>0.09</td><td>-0.03999999999999915</td><td>0.02</td><td>0.17407809237607402</td><td>0.05</td><td>0.38112838904280333</td><td>0.03195294399015003</td><td>-10.048871610957196</td><td>0.09550387756336212</td><td>0.12182838904280402</td><td>-0.21407809237607317</td><td>0.05385164807134505</td><td>-0.22978192978806392</td><td>50.13820010205218</td><td>127.0006274564272</td><td>85.10811906750973</td><td>520.6411196318032</td><td>550.2215892960804</td><td>438.6018623214262</td><td>155.5960035925812</td><td>-0.03552774330799835</td><td>0.2215551132186191</td><td>0.41279495133258076</td><td>0.5019999742507935</td><td>0.358</td><td>True</td><td>6.386397240536828</td><td>6.387531566387058</td><td>8.258809754639572</td><td>9.267891614249228</td><td>0.9355278958958895</td><td>-0.31705777758528497</td><td>0.6438136227523077</td><td>0.25671008</td></tr>\n",
       "<tr><td>...</td><td>...</td><td>...</td><td>...</td><td>...</td><td>...</td><td>...</td><td>...</td><td>...</td><td>...</td><td>...</td><td>...</td><td>...</td><td>...</td><td>...</td><td>...</td><td>...</td><td>...</td><td>...</td><td>...</td><td>...</td><td>...</td><td>...</td><td>...</td><td>...</td><td>...</td><td>...</td><td>...</td><td>...</td><td>...</td><td>...</td><td>...</td><td>...</td><td>...</td><td>...</td><td>...</td><td>...</td><td>...</td><td>...</td><td>...</td><td>...</td></tr>\n",
       "<tr><td>588848900977655954</td><td>3</td><td>9.48</td><td>0.02</td><td>8.99</td><td>0.08</td><td>10.17</td><td>0.11</td><td>-0.20999999999999908</td><td>0.02</td><td>-0.2459219076239259</td><td>0.08</td><td>0.07344033823898648</td><td>0.03973543922915949</td><td>-10.096559661761013</td><td>0.11695685157669998</td><td>-0.0532596617610146</td><td>0.03592190762392683</td><td>0.08246211251235322</td><td>0.8539296154173458</td><td>27.439617726784324</td><td>63.14632640346577</td><td>14.290051463154944</td><td>132.24249271143026</td><td>130.19085263595733</td><td>101.39261553700985</td><td>34.95981110831613</td><td>-0.2091872586888588</td><td>-0.1963159571813812</td><td>0.09832606975869396</td><td>0.19699999690055847</td><td>0.731</td><td>True</td><td>6.320852212619186</td><td>6.306375235474809</td><td>8.00205890423015</td><td>3.8035490939721077</td><td>0.7591870298070234</td><td>-0.5778848804226215</td><td>0.507408774450294</td><td>0.4190701</td></tr>\n",
       "<tr><td>588848900981653685</td><td>3</td><td>9.37</td><td>0.02</td><td>9.0</td><td>0.07</td><td>10.8</td><td>0.1</td><td>-0.3200000000000003</td><td>0.02</td><td>-0.23592190762392612</td><td>0.07</td><td>0.02510053023816621</td><td>0.03942660155343185</td><td>-10.774899469761834</td><td>0.1074916597232226</td><td>-0.422899469761834</td><td>-0.08407809237607416</td><td>0.07280109889280519</td><td>1.3563810297350587</td><td>40.0370996741781</td><td>124.49648039346084</td><td>32.710167634700014</td><td>202.76785487492822</td><td>198.4282184636938</td><td>168.18255816084775</td><td>56.222293514271925</td><td>-0.3181823148412022</td><td>-0.18926825908138203</td><td>0.0520705351292846</td><td>-1.7330000400543213</td><td>0.454</td><td>False</td><td>6.314148982150557</td><td>6.310649931203976</td><td>7.86196308244515</td><td>4.698252575038418</td><td>0.7681826581639566</td><td>-0.6169550159976427</td><td>0.5736687671671142</td><td>0.4618501</td></tr>\n",
       "<tr><td>588848900982505499</td><td>3</td><td>9.49</td><td>0.02</td><td>8.98</td><td>0.05</td><td>10.17</td><td>0.1</td><td>-0.1999999999999993</td><td>0.02</td><td>-0.2559219076239257</td><td>0.05</td><td>0.07396851841647517</td><td>0.025699972102182205</td><td>-10.096031481583525</td><td>0.10324964196573733</td><td>-0.052731481583526474</td><td>0.0559219076239264</td><td>0.05385164807134505</td><td>0.7814883917397841</td><td>75.23373974280709</td><td>160.27485052876932</td><td>58.96665655392534</td><td>199.98298607371558</td><td>78.3744956075958</td><td>116.44844779100879</td><td>52.307645900611426</td><td>-0.20081018349354632</td><td>-0.2087039863813815</td><td>0.09629084535062847</td><td>0.02199999988079071</td><td>-999.0</td><td>True</td><td>6.40972612671082</td><td>6.408488316457986</td><td>8.25441913095583</td><td>7.979840926724758</td><td>0.6108105649632734</td><td>-0.6724533443028999</td><td>0.49545608688384424</td><td>0.16223009</td></tr>\n",
       "<tr><td>588848900988010528</td><td>2</td><td>8.93</td><td>0.02</td><td>9.01</td><td>0.05</td><td>10.48</td><td>0.08</td><td>-0.7599999999999998</td><td>0.02</td><td>-0.22592190762392633</td><td>0.05</td><td>-0.11453750539714215</td><td>0.038952489209928484</td><td>-10.594537505397142</td><td>0.08897919091366023</td><td>-0.39933750539714197</td><td>-0.5340780923760735</td><td>0.05385164807134505</td><td>3.363994257985416</td><td>36.03715155193829</td><td>101.64048690474678</td><td>64.05737611079827</td><td>543.7224346906161</td><td>628.4770789504998</td><td>573.3508886515862</td><td>221.08782065277452</td><td>-0.7593177213353428</td><td>-0.18033681098138177</td><td>-0.0787118215310593</td><td>-0.09300000220537186</td><td>0.149</td><td>True</td><td>6.32220961285096</td><td>6.323893657580792</td><td>8.0157863093196</td><td>8.579956256972327</td><td>1.2093180646580972</td><td>-0.3342293857856573</td><td>0.7913616688732421</td><td>0.20745009</td></tr>\n",
       "<tr><td>588848900999938189</td><td>3</td><td>9.55</td><td>0.02</td><td>9.1</td><td>0.06</td><td>10.8</td><td>0.1</td><td>-0.1399999999999988</td><td>0.02</td><td>-0.13592190762392647</td><td>0.06</td><td>0.16307382857422556</td><td>0.03174167783844858</td><td>-10.636926171425776</td><td>0.10491679613865389</td><td>-0.28492617142577537</td><td>-0.0040780923760723176</td><td>0.06324555320336758</td><td>1.030003201451202</td><td>40.619371049233315</td><td>81.72922557838507</td><td>69.21352222814511</td><td>322.42591848890777</td><td>347.104265535147</td><td>138.69871208759258</td><td>180.63833277777803</td><td>-0.14380411049549838</td><td>-0.08556598478138229</td><td>0.18732042123750203</td><td>-0.652999997138977</td><td>0.374</td><td>True</td><td>6.369644382724678</td><td>6.3696577027193255</td><td>8.038927985537313</td><td>6.833513318303917</td><td>0.6938038816136629</td><td>-0.41158756667231944</td><td>0.5334744127055084</td><td>0.1843601</td></tr>\n",
       "<tr><td>588848901007409269</td><td>5+</td><td>9.54</td><td>0.02</td><td>9.14</td><td>0.07</td><td>10.64</td><td>0.09</td><td>-0.15000000000000036</td><td>0.02</td><td>-0.09592190762392555</td><td>0.07</td><td>0.17891022013863234</td><td>0.03834092369215435</td><td>-10.461089779861368</td><td>0.09782651189512791</td><td>-0.18748977986136772</td><td>-0.054078092376074804</td><td>0.07280109889280519</td><td>1.5637720695473976</td><td>43.49276790531481</td><td>88.80499981407434</td><td>11.960963335412286</td><td>115.46547860484338</td><td>239.7757362184635</td><td>234.61465020670224</td><td>76.96686342619849</td><td>-0.14634851357167025</td><td>-0.04750681808138217</td><td>0.20690822202209175</td><td>0.06700000166893005</td><td>0.305</td><td>True</td><td>6.315787609562093</td><td>6.30884436192539</td><td>7.904611242835045</td><td>5.615106342773729</td><td>0.7363482465428621</td><td>-0.7205518955007897</td><td>0.5566535202833655</td><td>-0.34083992</td></tr>\n",
       "<tr><td>588848901516689605</td><td>2</td><td>9.16</td><td>0.02</td><td>9.72</td><td>0.05</td><td>10.72</td><td>0.09</td><td>-0.5299999999999994</td><td>0.02</td><td>0.48407809237607446</td><td>0.05</td><td>0.5242096427377008</td><td>0.04562089859769709</td><td>-10.1957903572623</td><td>0.10090226156465157</td><td>0.11700964273769898</td><td>-1.014078092376074</td><td>0.05385164807134505</td><td>-1.094864668216071</td><td>28.33178771003307</td><td>65.09538858938778</td><td>46.37941245402687</td><td>398.4133091303143</td><td>110.46655994077409</td><td>365.3580307417897</td><td>125.90331246871877</td><td>-0.5332175626439373</td><td>0.5358969214186192</td><td>0.571441732735964</td><td>0.6119999885559082</td><td>0.458</td><td>True</td><td>6.434879869046058</td><td>6.437194424369047</td><td>8.377009256261736</td><td>9.383460441312582</td><td>1.6732174863499925</td><td>-0.3653411083508964</td><td>0.9214148105254603</td><td>0.6071101</td></tr>\n",
       "<tr><td>588848901525012584</td><td>3</td><td>9.97</td><td>0.02</td><td>9.96</td><td>0.05</td><td>10.58</td><td>0.09</td><td>0.28000000000000114</td><td>0.02</td><td>0.7240780923760747</td><td>0.05</td><td>0.8575162879567868</td><td>0.03715188038086197</td><td>-9.722483712043214</td><td>0.0973666381048143</td><td>0.5217162879567852</td><td>-0.44407809237607354</td><td>0.05385164807134505</td><td>0.3866986212511641</td><td>50.21893001000442</td><td>131.3280519711421</td><td>73.28226278229296</td><td>446.1101742503479</td><td>432.1498237449012</td><td>402.3748862252124</td><td>96.32790515205473</td><td>0.27959829428965755</td><td>0.7708379475186187</td><td>0.8922898795677217</td><td>0.9169999957084656</td><td>0.706</td><td>True</td><td>6.376342891342</td><td>6.3672384344611475</td><td>8.247829919723717</td><td>9.297401199195756</td><td>0.9904017438573156</td><td>-0.427457123500141</td><td>0.7560457352639196</td><td>0.8239701</td></tr>\n",
       "<tr><td>588848901526519845</td><td>5+</td><td>9.47</td><td>0.02</td><td>8.85</td><td>0.05</td><td>10.04</td><td>0.1</td><td>-0.21999999999999886</td><td>0.02</td><td>-0.38592190762392653</td><td>0.05</td><td>0.005945109035370947</td><td>0.023508588845575874</td><td>-10.034054890964628</td><td>0.10272611035910167</td><td>-0.054454890964629854</td><td>0.16592190762392767</td><td>0.05385164807134505</td><td>0.5700635171361783</td><td>353.16478740183686</td><td>973.3404850013844</td><td>83.94849979248076</td><td>389.912598383247</td><td>90.7190143337591</td><td>368.3391180911625</td><td>83.9212459961962</td><td>-0.22488397499745186</td><td>-0.33532014288138223</td><td>0.024428852809634933</td><td>-0.09300000220537186</td><td>-999.0</td><td>True</td><td>6.537128771950381</td><td>6.534846388816258</td><td>8.547095100338487</td><td>7.838815649131789</td><td>0.4918837537450109</td><td>-0.8131780253203653</td><td>0.4367681933182054</td><td>0.068890095</td></tr>\n",
       "<tr><td>588848901531041867</td><td>2</td><td>9.28</td><td>0.04</td><td>9.19</td><td>0.05</td><td>10.53</td><td>0.08</td><td>-0.41000000000000014</td><td>0.04</td><td>-0.04592190762392662</td><td>0.05</td><td>0.11015333950856897</td><td>0.03693531741764407</td><td>-10.41984666049143</td><td>0.0881147982619385</td><td>-0.2001466604914306</td><td>-0.3640780923760735</td><td>0.06403124237432849</td><td>8.928200530292834</td><td>6.479549875801505</td><td>33.72479810347153</td><td>44.28926061662813</td><td>310.09422397660944</td><td>380.4322696823752</td><td>310.53101183283644</td><td>109.77120890778706</td><td>-0.40705865761463933</td><td>0.008431159418618855</td><td>0.14961691018456447</td><td>0.09700000286102295</td><td>0.216</td><td>True</td><td>6.32355482643916</td><td>6.3197548847883995</td><td>8.014816317369874</td><td>8.1923701837522</td><td>0.9970583905858312</td><td>-0.48408991240722465</td><td>0.722460736037649</td><td>0.4048501</td></tr>\n",
       "</table></div>"
      ],
      "text/plain": [
       "<Table length=2986>\n",
       "      dr7id         m   logL_FUV ...     mir_fraction      sfr_mpa   \n",
       "      int64        str2 float64  ...       float64         float32   \n",
       "------------------ ---- -------- ... ------------------- ------------\n",
       "587722981755977976    1     9.48 ...  0.6474775601914139   0.12825009\n",
       "587722982282100859    2     9.23 ...   0.613242002019192 -0.016709905\n",
       "587722982286360744    4     9.35 ...  0.6352409978652058    0.3091701\n",
       "587722982291865751   5+     9.72 ...  0.5710116223224722    0.6314501\n",
       "587722982297305365    2     9.43 ...  0.3742237774495441 0.0064000976\n",
       "587722982297698635    2     9.52 ...  0.5206655260929638    0.4460801\n",
       "587722982298616131    2     9.45 ...  0.4502513187433085   -0.1891499\n",
       "587722982817529962    2     9.37 ... 0.47511855335746667  -0.27486992\n",
       "587722982826770451    3     9.65 ...  0.6438136227523077   0.25671008\n",
       "               ...  ...      ... ...                 ...          ...\n",
       "588848900977655954    3     9.48 ...   0.507408774450294    0.4190701\n",
       "588848900981653685    3     9.37 ...  0.5736687671671142    0.4618501\n",
       "588848900982505499    3     9.49 ... 0.49545608688384424   0.16223009\n",
       "588848900988010528    2     8.93 ...  0.7913616688732421   0.20745009\n",
       "588848900999938189    3     9.55 ...  0.5334744127055084    0.1843601\n",
       "588848901007409269   5+     9.54 ...  0.5566535202833655  -0.34083992\n",
       "588848901516689605    2     9.16 ...  0.9214148105254603    0.6071101\n",
       "588848901525012584    3     9.97 ...  0.7560457352639196    0.8239701\n",
       "588848901526519845   5+     9.47 ...  0.4367681933182054  0.068890095\n",
       "588848901531041867    2     9.28 ...   0.722460736037649    0.4048501"
      ]
     },
     "execution_count": 84,
     "metadata": {},
     "output_type": "execute_result"
    }
   ],
   "source": [
    "combined"
   ]
  },
  {
   "cell_type": "markdown",
   "id": "cac2d883",
   "metadata": {},
   "source": [
    "Compare the FUV SFRs; they agree perfectly."
   ]
  },
  {
   "cell_type": "code",
   "execution_count": 85,
   "id": "ef27d26e",
   "metadata": {},
   "outputs": [
    {
     "data": {
      "text/plain": [
       "(np.float64(-1.5), np.float64(1.5), np.float64(-1.5), np.float64(1.5))"
      ]
     },
     "execution_count": 85,
     "metadata": {},
     "output_type": "execute_result"
    },
    {
     "data": {
      "image/png": "[encoded data removed]",
      "text/plain": [
       "<Figure size 640x480 with 1 Axes>"
      ]
     },
     "metadata": {},
     "output_type": "display_data"
    }
   ],
   "source": [
    "plt.plot(combined['logSFR_FUV'], combined['sfr_fuv'], 'o', alpha=0.1, markersize=5)\n",
    "plt.plot([-1.5, 1.5], [-1.5, 1.5], 'k--')\n",
    "plt.axis((-1.5, 1.5, -1.5, 1.5))"
   ]
  },
  {
   "cell_type": "markdown",
   "id": "72be4122",
   "metadata": {},
   "source": [
    "Similarly, for the MIR, we get similar good agreement, except for a small offset since Ross has actually applied a correction of $\\log_{10}(1.06)$, which is only approximately $0.03\\,\\textrm{dex}$."
   ]
  },
  {
   "cell_type": "code",
   "execution_count": 86,
   "id": "f84ade00",
   "metadata": {},
   "outputs": [
    {
     "data": {
      "image/png": "[encoded data removed]",
      "text/plain": [
       "<Figure size 640x480 with 1 Axes>"
      ]
     },
     "metadata": {},
     "output_type": "display_data"
    }
   ],
   "source": [
    "plt.plot(combined['logSFR_22'], combined['sfr_22'], 'o', alpha=0.1, markersize=5)\n",
    "plt.plot([-1.5, 1.5], [-1.5, 1.5], 'k--')\n",
    "plt.axis((-1.5, 1.5, -1.5, 1.5));"
   ]
  },
  {
   "cell_type": "markdown",
   "id": "da503747",
   "metadata": {},
   "source": [
    "An example analysis using the data is in a separate notebook."
   ]
  }
 ],
 "metadata": {
  "kernelspec": {
   "display_name": "icl",
   "language": "python",
   "name": "python3"
  },
  "language_info": {
   "codemirror_mode": {
    "name": "ipython",
    "version": 3
   },
   "file_extension": ".py",
   "mimetype": "text/x-python",
   "name": "python",
   "nbconvert_exporter": "python",
   "pygments_lexer": "ipython3",
   "version": "3.12.3"
  }
 },
 "nbformat": 4,
 "nbformat_minor": 5
}
